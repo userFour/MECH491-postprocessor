{
 "cells": [
  {
   "cell_type": "code",
   "execution_count": 4,
   "metadata": {},
   "outputs": [
    {
     "name": "stdout",
     "output_type": "stream",
     "text": [
      "Sucess!\n"
     ]
    }
   ],
   "source": [
    "# ---------------------- IMPORT THE LIBRARIES ----------------------\n",
    "from math import *\n",
    "import numpy as np\n",
    "# from scipy.optimize import fsolve\n",
    "import matplotlib\n",
    "import matplotlib.pyplot as plt\n",
    "\n",
    "print(\"Sucess!\")"
   ]
  },
  {
   "cell_type": "code",
   "execution_count": 5,
   "metadata": {},
   "outputs": [
    {
     "name": "stdout",
     "output_type": "stream",
     "text": [
      "angleA = 36.7807 \t[deg]\n",
      "angleC = -39.4388 \t[deg]\n"
     ]
    }
   ],
   "source": [
    "# Test eqns for machine with A and C axis\n",
    "v = np.array([-0.3803605, 0.4624192, 0.8009335], dtype=float)\n",
    "\n",
    "theta_A = acos(v[2])\n",
    "theta_C = atan2(v[0], v[1])\n",
    "\n",
    "print(\"angleA = %0.4f \\t[deg]\" % degrees(theta_A))\n",
    "print(\"angleC = %0.4f \\t[deg]\" % degrees(theta_C))"
   ]
  },
  {
   "cell_type": "code",
   "execution_count": null,
   "metadata": {},
   "outputs": [],
   "source": []
  }
 ],
 "metadata": {
  "interpreter": {
   "hash": "38740d3277777e2cd7c6c2cc9d8addf5118fdf3f82b1b39231fd12aeac8aee8b"
  },
  "kernelspec": {
   "display_name": "Python 3.9.7 64-bit",
   "language": "python",
   "name": "python3"
  },
  "language_info": {
   "codemirror_mode": {
    "name": "ipython",
    "version": 3
   },
   "file_extension": ".py",
   "mimetype": "text/x-python",
   "name": "python",
   "nbconvert_exporter": "python",
   "pygments_lexer": "ipython3",
   "version": "3.9.7"
  },
  "orig_nbformat": 4
 },
 "nbformat": 4,
 "nbformat_minor": 2
}
